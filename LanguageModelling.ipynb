{
 "cells": [
  {
   "cell_type": "markdown",
   "metadata": {
    "id": "Br1Y-2sD6ABD"
   },
   "source": [
    "## Language Modelling Task (45 points)"
   ]
  },
  {
   "cell_type": "markdown",
   "metadata": {
    "id": "w3iWkGVC6ABI"
   },
   "source": [
    "In this task, you will train a language model and use the trained model to generate text. You are expected to use Google Colab for this task. 3 options from the Project Gutenberg is provided as data:  Pride and Prejudice, A Tale of Two Cities and The Brothers Karamazov. You  will  use  cross-entropy  loss  for  optimization  and  use  perplexity  as  a  metric. You should get a maximum validation perplexity of 120 for Pride and Prejudice and 125 for the other books.  Experimenting with only one book is sufficient.  This is not a sufficient value for good language modelling but it is sufficient for this assignment.  For a detailed explanation of cross-entropy and perplexity of a language model, check: https://towardsdatascience.com/the-relationship-between-perplexity-and-entropy-in-nlp-f81888775ccc and https://towardsdatascience.com/perplexity-in-language-models-87a196019a94"
   ]
  },
  {
   "cell_type": "markdown",
   "metadata": {
    "id": "UNUXjxud6ABJ"
   },
   "source": [
    "You need to implement the dataset object and and create dataloaders from it. Then you need to implement network models, training loops and evaluation and generation functions. Instructions for experimentation is provided in Training and Experimentation section."
   ]
  },
  {
   "cell_type": "code",
   "execution_count": 56,
   "metadata": {
    "colab": {
     "base_uri": "https://localhost:8080/"
    },
    "executionInfo": {
     "elapsed": 1156,
     "status": "ok",
     "timestamp": 1611035950919,
     "user": {
      "displayName": "ETA Kaggle",
      "photoUrl": "",
      "userId": "16314910698452963170"
     },
     "user_tz": -180
    },
    "id": "eH38v7eyKhE1",
    "outputId": "6e0d1d73-afa4-46a8-e37c-7a411fa9a7a5"
   },
   "outputs": [
    {
     "name": "stdout",
     "output_type": "stream",
     "text": [
      "Mounted at /content/drive/\n"
     ]
    }
   ],
   "source": [
    "# This part probably will be enough for utilizing Drive in Colab\n",
    "# but examine links above if you encounter with problems.\n",
    "from google.colab import drive\n",
    "drive.mount('/content/drive/', force_remount=True)"
   ]
  },
  {
   "cell_type": "markdown",
   "metadata": {
    "id": "Hl_JG1e16ABM"
   },
   "source": [
    "### Fill in required parts of code "
   ]
  },
  {
   "cell_type": "code",
   "execution_count": 57,
   "metadata": {
    "colab": {
     "base_uri": "https://localhost:8080/"
    },
    "executionInfo": {
     "elapsed": 791,
     "status": "ok",
     "timestamp": 1611035955466,
     "user": {
      "displayName": "ETA Kaggle",
      "photoUrl": "",
      "userId": "16314910698452963170"
     },
     "user_tz": -180
    },
    "id": "xk97LrSrjOOO",
    "outputId": "09eb83df-f199-46a2-c682-df1ff637c506"
   },
   "outputs": [
    {
     "name": "stdout",
     "output_type": "stream",
     "text": [
      "The autoreload extension is already loaded. To reload it, use:\n",
      "  %reload_ext autoreload\n"
     ]
    }
   ],
   "source": [
    "import numpy as np\n",
    "import math\n",
    "import matplotlib.pyplot as plt\n",
    "import pandas as pd\n",
    "import torch\n",
    "import torch.nn as nn\n",
    "import re\n",
    "import time\n",
    "from collections import Counter\n",
    "from torch.utils.data import DataLoader\n",
    "from datetime import datetime\n",
    "%load_ext autoreload\n",
    "%autoreload 2\n",
    "%reload_ext autoreload"
   ]
  },
  {
   "cell_type": "code",
   "execution_count": 58,
   "metadata": {
    "executionInfo": {
     "elapsed": 431,
     "status": "ok",
     "timestamp": 1611035955467,
     "user": {
      "displayName": "ETA Kaggle",
      "photoUrl": "",
      "userId": "16314910698452963170"
     },
     "user_tz": -180
    },
    "id": "CE3SB2yTkUPs"
   },
   "outputs": [],
   "source": [
    "device = torch.device('cuda' if torch.cuda.is_available() else 'cpu')"
   ]
  },
  {
   "cell_type": "markdown",
   "metadata": {
    "id": "m-QPVcUV6ABN"
   },
   "source": [
    "Fill \\_read_data( ), \\__len__( ), \\__getitem__( ) functions. \n",
    "\n",
    "In \\_read_data( ): Read the data word by word and split data into training and validation sets. \n",
    "            You can choose to either include punctuation marks or exclude the\n",
    "            punctuation marks and add a \\<eos> (end of sentence) token to \n",
    "            state the end of a sentence. Make sure words are cleaned and do not contain \n",
    "            characters like '\\r' etc. Words that start with a capital letter would also\n",
    "            unnecessarily increase the lexicon size. Based on your preference, \n",
    "            you can also remove the parts of the book that belong to Project Gutenberg.\n",
    "                     \n",
    "Required steps to form the lexicon is already given.\n",
    "\n",
    "\n",
    "In \\__len__( ): return size of dataset\n",
    "\n",
    "In \\__getitem__( ): return sample with index idx, should return data and target\n",
    "                    Uses sliding window"
   ]
  },
  {
   "cell_type": "code",
   "execution_count": 59,
   "metadata": {
    "executionInfo": {
     "elapsed": 894,
     "status": "ok",
     "timestamp": 1611035960149,
     "user": {
      "displayName": "ETA Kaggle",
      "photoUrl": "",
      "userId": "16314910698452963170"
     },
     "user_tz": -180
    },
    "id": "ixcE5OBNjOOR"
   },
   "outputs": [],
   "source": [
    "class Dataset(torch.utils.data.Dataset):\n",
    "    def __init__(\n",
    "        self,\n",
    "        seq_length,\n",
    "        path,\n",
    "        train=True,\n",
    "        train_split=0.8,\n",
    "        device='cuda'\n",
    "    ):\n",
    "        \"\"\" Dataset constructor\n",
    "        Args:\n",
    "        seq_length: sequence length (window size)\n",
    "        path: path of the data file\n",
    "        train: train vs validation option\n",
    "        train_split: ratio of the training data\n",
    "        device: cpu or cuda\n",
    "        \"\"\"\n",
    "        self.seq_length = seq_length\n",
    "        #self.mode = mode\n",
    "        self.train_split = train_split\n",
    "        self.path = path\n",
    "        self.all_data, self.train_data, self.eval_data = self._read_data()\n",
    "        \n",
    "        self.unique_data = self._find_unique()\n",
    "\n",
    "        self.idx_data = {idx: data for idx, data in enumerate(self.unique_data)}\n",
    "        self.data_idx = {data: idx for idx, data in enumerate(self.unique_data)}\n",
    "        \n",
    "        self.data = self.train_data if train else self.eval_data\n",
    "\n",
    "        self.indexed_data = np.array([self.data_idx[i] for i in self.data])\n",
    "        \n",
    "        self.indexed_data = torch.from_numpy(self.indexed_data).to(device)\n",
    "\n",
    "    def _read_data(self):\n",
    "        \"\"\" Reads data word by word and splits data into training and validation\n",
    "            You can choose to either include punctuation marks or exclude the\n",
    "            punctuation marks and add a <eos> (end of sentence) token to \n",
    "            state the end of a sentence. Make sure words are cleaned and do not contain \n",
    "            characters like '\\r' etc. Words that start with a capital letter would also\n",
    "            unnecessarily increase the lexicon size. Based on your preference, \n",
    "            you can also remove the parts of the book that belong to Project Gutenberg.\n",
    "            Fill in parts with None \n",
    "        \"\"\"\n",
    "        text = open(self.path, 'rb').read().decode(encoding='utf-8')\n",
    "        #text = text.replace(\".\", \" <eos>\")\n",
    "        #text = text.replace(\"\\n\", \" \")\n",
    "                                                                     # Project Gutenberg part is removed.\n",
    "        text = text.lower()                                          # Capital letters are changed to lower case\n",
    "        text = re.sub(r\"([.!,?'\\\"])\", r\" \\1 \", text)                 # i did not choose to exclude the punctuation marks, and used them as a word, so added space to begining and end\n",
    "                                                                     # So split function can split them\n",
    "        text = re.sub(r\"[^a-zA-Z0-9.,?!'\\\"]\", \" \", text)             # Only alphabet letters, numbers and punctuation marks are taken  \n",
    "        data = text.split()                                          # split data to a list\n",
    "        # print(data)\n",
    "        train_data = data[:int(len(data)*self.train_split)]          # %80 percent taken as a training\n",
    "        eval_data = data[int(len(data)*self.train_split):]           # %20 percent for testing\n",
    "        return data, train_data, eval_data\n",
    "\n",
    "    def _find_unique(self):\n",
    "        \"\"\" Finds unique words and sorts them according to their frequency - most frequent first\n",
    "        \"\"\"\n",
    "        data_count = Counter(self.all_data)\n",
    "        \n",
    "        return sorted(data_count, key=data_count.get, reverse=True)\n",
    "\n",
    "    def __len__(self):\n",
    "        \"\"\" Size of dataset\n",
    "            Fill in parts with None \n",
    "        \"\"\"\n",
    "        return len(self.indexed_data) - self.seq_length               # size of data set - seqlength  int(len(self.data)/self.seq_length)\n",
    "\n",
    "    def __getitem__(self, idx):\n",
    "        \"\"\" Get sample with index idx, should return data and target\n",
    "            Uses sliding window\n",
    "            Fill in parts with None \n",
    "        # \"\"\"\n",
    "        \n",
    "        x = self.indexed_data[idx : idx + self.seq_length]            # input starting from idx to length of sequence\n",
    "        y = self.indexed_data[idx + 1 : idx + self.seq_length + 1]    # output of idx is idx + 1. So y is starting from idx + 1 to length of sequence +1\n",
    "\n",
    "        return (x, y)"
   ]
  },
  {
   "cell_type": "code",
   "execution_count": null,
   "metadata": {
    "colab": {
     "base_uri": "https://localhost:8080/"
    },
    "executionInfo": {
     "elapsed": 2541,
     "status": "ok",
     "timestamp": 1611035962468,
     "user": {
      "displayName": "ETA Kaggle",
      "photoUrl": "",
      "userId": "16314910698452963170"
     },
     "user_tz": -180
    },
    "id": "oB7W7czijOOS",
    "outputId": "649ff214-999f-49de-a158-0a4406388b9e"
   },
   "outputs": [],
   "source": [
    "\"\"\" Get dataset and dataloader for train and validation\n",
    "    Using only 1 book from the data is sufficient\n",
    "\"\"\"\n",
    "\n",
    "seq_length = 20\n",
    "batch_size = 1024\n",
    "\n",
    "train_dataset = Dataset(seq_length, '/content/drive/MyDrive/Colab Notebooks/pride_prejudice.txt')                 # prepare dataset \n",
    "trainloader = DataLoader(train_dataset, batch_size=batch_size)                                                    # dateset to dataloader\n",
    "eval_dataset = Dataset(seq_length, '/content/drive/MyDrive/Colab Notebooks/pride_prejudice.txt', train=False)     # train = false  ->  test\n",
    "evalloader = DataLoader(eval_dataset, batch_size=batch_size)"
   ]
  },
  {
   "cell_type": "markdown",
   "metadata": {
    "id": "sznJpxal6ABO"
   },
   "source": [
    "Complete RNNModel and GatedModel (either with LSTM or GRU). Do not forget to create word embeddings."
   ]
  },
  {
   "cell_type": "code",
   "execution_count": 77,
   "metadata": {
    "executionInfo": {
     "elapsed": 517,
     "status": "ok",
     "timestamp": 1611036212366,
     "user": {
      "displayName": "ETA Kaggle",
      "photoUrl": "",
      "userId": "16314910698452963170"
     },
     "user_tz": -180
    },
    "id": "0d6cWdiMjOOT"
   },
   "outputs": [],
   "source": [
    "class RNNModel(nn.Module):\n",
    "  \n",
    "    def __init__(self, ntoken, embed_size=64, hidden_size=64,\n",
    "                 hidden_layers=2, batch_size=20, dropout=0.1, device='cuda'):\n",
    "        super(RNNModel, self).__init__()\n",
    "        \"\"\" RNNModel constructor\n",
    "        Args:\n",
    "            ntoken: token size\n",
    "            embed_size: embedding dimension size\n",
    "            hidden_size: hidden layer dimension size\n",
    "            hidden_layers: number of hidden layers\n",
    "            seq_length: length of sequence\n",
    "            dropout: dropout\n",
    "            device: cpu or cuda\n",
    "        \"\"\"\n",
    "        \"\"\"Fill in parts with None\"\"\"\n",
    "        \n",
    "        self.hidden_layers = hidden_layers\n",
    "        self.ntoken = ntoken\n",
    "        self.embed_size = embed_size\n",
    "        self.hidden_size = hidden_size\n",
    "        self.batch_size = batch_size\n",
    "        self.dropout = nn.Dropout(p=dropout)\n",
    "        self.device = device\n",
    "        \n",
    "        self.embed = nn.Embedding(ntoken, embed_size)                                   # defined embedding with number of vocab and embed size\n",
    "        self.rnn = nn.RNN(embed_size, hidden_size, hidden_layers, batch_first=True)     # defined RNN \n",
    "        self.linear = nn.Linear(hidden_size, ntoken)                                    # defined decoder\n",
    "\n",
    "        self.to(device)\n",
    "    \n",
    "\n",
    "    def forward(self, x, state):\n",
    "        \n",
    "        \"\"\"Forward pass for RNNModel\"\"\"\n",
    "        x = x.to(device)\n",
    "        state = state.to(device)\n",
    "\n",
    "        emb = self.dropout(self.embed(x))                                               # first embedding with dropout \n",
    "        output, state = self.rnn(emb, state)                                            # rnn takes embedding and state \n",
    "        logits = self.linear(output)                                                    # decoder produces output\n",
    "        \n",
    "        return logits, state\n",
    "\n",
    "    def initialize(self, batch_size):\n",
    "        \"\"\" Initialize hidden states \"\"\"\n",
    "        return torch.zeros(self.hidden_layers,                                          # initilizes hidden states begining of every epoch\n",
    "                          batch_size, self.hidden_size)"
   ]
  },
  {
   "cell_type": "code",
   "execution_count": 79,
   "metadata": {
    "executionInfo": {
     "elapsed": 1518,
     "status": "ok",
     "timestamp": 1611036896444,
     "user": {
      "displayName": "ETA Kaggle",
      "photoUrl": "",
      "userId": "16314910698452963170"
     },
     "user_tz": -180
    },
    "id": "fakOEOAsjOOT"
   },
   "outputs": [],
   "source": [
    "class GatedModel(nn.Module):\n",
    "\n",
    "    def __init__(self, ntoken, embed_size=64, hidden_size=64,\n",
    "                 hidden_layers=2, batch_size=20, dropout=0.1, device='cuda'):\n",
    "        super(GatedModel, self).__init__()\n",
    "        \"\"\" GatedModel constructor\n",
    "        Args:\n",
    "            ntoken: token size\n",
    "            embed_size: embedding dimension size\n",
    "            hidden_size: hidden layer dimension size\n",
    "            hidden_layers: number of hidden layers\n",
    "            seq_length: length of sequence\n",
    "            dropout: dropout\n",
    "            device: cpu or cuda\n",
    "        \"\"\"\n",
    "        \"\"\"Fill in parts with None\"\"\"\n",
    "        \n",
    "        self.hidden_layers = hidden_layers\n",
    "        self.ntoken = ntoken\n",
    "        self.embed_size = embed_size\n",
    "        self.hidden_size = hidden_size\n",
    "        self.batch_size = batch_size\n",
    "        self.dropout = nn.Dropout(p=dropout)\n",
    "        self.device = device\n",
    "     \n",
    "        self.embed = nn.Embedding(ntoken, embed_size)                                         # defined embedding with number of vocab and embed size        \n",
    "        self.lstm = nn.LSTM(embed_size, hidden_size, hidden_layers,                           # defined LSTM \n",
    "                            batch_first=True)        \n",
    "        self.linear = nn.Linear(hidden_size, ntoken)                                          # defined decoder\n",
    "        \n",
    "        self.to(device)\n",
    "\n",
    "    def forward(self, x, state):\n",
    "        \"\"\"Forward pass for LSTMModel\"\"\"\n",
    "        x = x.to(device)\n",
    "        state0 = state[0].to(device)\n",
    "        state1 = state[1].to(device)                                                          # parameters are moved to cuda\n",
    "        state = (state0, state1)\n",
    "        embed = self.dropout(self.embed(x))                                                   # first embedding with dropout \n",
    "        output, state = self.lstm(embed, state)                                               # lstm takes embedding and state \n",
    "        logits = self.linear(output)                                                          # decoder produces output\n",
    "        return logits, state\n",
    "\n",
    "    def initialize(self, batch_size):\n",
    "        \"\"\" Initialize hidden states \"\"\"\n",
    "        \n",
    "        return (torch.zeros(self.hidden_layers, batch_size, self.hidden_size),                # initilizes hidden states begining of every epoch\n",
    "                torch.zeros(self.hidden_layers, batch_size, self.hidden_size))"
   ]
  },
  {
   "cell_type": "markdown",
   "metadata": {
    "id": "6KXpwdVQ6ABP"
   },
   "source": [
    "Complete the functions below."
   ]
  },
  {
   "cell_type": "code",
   "execution_count": 62,
   "metadata": {
    "executionInfo": {
     "elapsed": 573,
     "status": "ok",
     "timestamp": 1611035974098,
     "user": {
      "displayName": "ETA Kaggle",
      "photoUrl": "",
      "userId": "16314910698452963170"
     },
     "user_tz": -180
    },
    "id": "BMnsEe4ojOOT"
   },
   "outputs": [],
   "source": [
    "\n",
    "def repackage_hidden(h):\n",
    "    \"\"\"Wraps hidden states in new Tensors, to detach them from their history.\"\"\"\n",
    "\n",
    "    if isinstance(h, torch.Tensor):\n",
    "        return h.detach()\n",
    "    else:\n",
    "        return tuple(repackage_hidden(v) for v in h)\n",
    "\n",
    "def train_one_epoch(model, criterion, optimizer, dataloader,\n",
    "                    log=True, log_interval=2500, grad_clip=False, clip_val=0.5):\n",
    "    \"\"\" Single epoch training function\n",
    "    Args:\n",
    "        model: network model\n",
    "        criterion: loss function\n",
    "        optimizer: optimizer\n",
    "        dataloader: dataloader\n",
    "        log: print loss and perplexity? (boolean)\n",
    "        log_interval: interval to log\n",
    "        grad_clip: perform gradient clipping? (boolean)\n",
    "        clip_val: value for gradient clipping\n",
    "    \"\"\"\n",
    "    \"\"\"Fill in parts with None\"\"\"\n",
    "\n",
    "    model.train()    \n",
    "    state = model.initialize(model.batch_size)\n",
    "    total_loss = 0\n",
    "    for batch, (x, y) in enumerate(dataloader):  \n",
    "        if (len(x) == model.batch_size):                                                   # check len of input \n",
    "          optimizer.zero_grad()                                                            # zero grad\n",
    "          state = repackage_hidden(state)                                                  # Wraps hidden states\n",
    "          output, state = model(x, state)                                                  # Model execution\n",
    "          loss = criterion(output.transpose(1, 2), y)                                      # loss calculation\n",
    "          loss.backward()                                                                  # deriv. backpropagation\n",
    "          if grad_clip:                                                                    # grad clip allows\n",
    "              torch.nn.utils.clip_grad_norm_(model.parameters(), clip_val)                 # apply grad clip\n",
    "        \n",
    "          optimizer.step()                                                                 # update weight\n",
    "          total_loss += loss.item()                                                        # summ all loss in a epoch\n",
    "          \n",
    "          if batch % log_interval == 0 and log:\n",
    "              print(f\"loss: {loss}, total loss: {total_loss}, perplexity: {math.exp(cur_loss)}\")\n",
    "\n",
    "    return total_loss / (len(dataloader))"
   ]
  },
  {
   "cell_type": "code",
   "execution_count": 63,
   "metadata": {
    "executionInfo": {
     "elapsed": 618,
     "status": "ok",
     "timestamp": 1611035974397,
     "user": {
      "displayName": "ETA Kaggle",
      "photoUrl": "",
      "userId": "16314910698452963170"
     },
     "user_tz": -180
    },
    "id": "8axxPdGfjOOU"
   },
   "outputs": [],
   "source": [
    "def evaluate(model, criterion, dataloader, log=True):\n",
    "    \"\"\" Evaluation function\n",
    "    Args:\n",
    "        model: network model\n",
    "        criterion: loss function\n",
    "        dataloader: dataloader\n",
    "        log: print loss and perplexity? (boolean)\n",
    "    \"\"\"\n",
    "    \"\"\"Fill in parts with None\"\"\"\n",
    "    model.eval()\n",
    "    total_loss = 0\n",
    "    state = model.initialize(model.batch_size)\n",
    "    for batch, (x, y) in enumerate(dataloader):                                             # same steps as training but no update, no learning :)\n",
    "        if(len(x) == model.batch_size):\n",
    "          with torch.no_grad():\n",
    "              output, state = model(x, state)\n",
    "              loss = criterion(output.view(-1, model.ntoken), y.view(-1).to(device))\n",
    "              total_loss += loss.item()\n",
    "    if log:        \n",
    "        cur_loss = total_loss / len(dataloader)\n",
    "        print('\\tEvaluation loss {:5.2f} | ppl {:8.2f}'.format(\n",
    "            cur_loss, math.exp(cur_loss)))       \n",
    "        \n",
    "    return total_loss / (len(dataloader)), math.exp(cur_loss)"
   ]
  },
  {
   "cell_type": "code",
   "execution_count": 64,
   "metadata": {
    "executionInfo": {
     "elapsed": 702,
     "status": "ok",
     "timestamp": 1611035974681,
     "user": {
      "displayName": "ETA Kaggle",
      "photoUrl": "",
      "userId": "16314910698452963170"
     },
     "user_tz": -180
    },
    "id": "PuasM3w6jOOU"
   },
   "outputs": [],
   "source": [
    "def train(trainloader, evalloader, model, optimizer, criterion,\n",
    "          nepoch, grad_clip=False, clip_val=0.5 , log_interval=1,\n",
    "          scheduler=None, eval_during_train=True, eval_interval=1, \n",
    "          save_interval=1, model_name='model'):\n",
    "    \"\"\" Training function\n",
    "    Args:\n",
    "        trainloader: dataloader for training dataset\n",
    "        evalloader: dataloader for evaluation dataset\n",
    "        model: network model\n",
    "        optimizer: optimizer\n",
    "        criterion: loss function\n",
    "        nepoch: number of epochs\n",
    "        grad_clip: perform gradient clipping? (boolean)\n",
    "        clip_val: value for gradient clipping\n",
    "        log_interval: interval to log\n",
    "        optimizer: learning rate scheduler\n",
    "        eval_during_train: perform evaluation during training? (boolean)\n",
    "        eval_interval: interval to evaluate\n",
    "        save_interval: interval to save\n",
    "        model_name: model name to save\n",
    "    \"\"\"\n",
    "    \"\"\"Fill in parts with None\"\"\"\n",
    "    train_losses = []\n",
    "    validation_losses = []\n",
    "    perplexity_train = []\n",
    "    perplexity_test = []\n",
    "    for ep in range(nepoch):        # train model each epoch save loss\n",
    "        train_loss = train_one_epoch(model, criterion, optimizer, trainloader, log_interval=log_interval, grad_clip=grad_clip, log=False, clip_val=clip_val)\n",
    "        train_losses.append(train_loss)\n",
    "        if ep % log_interval == 0:\n",
    "            print('Epoch {} \\n\\tTraining loss   {:5.2f} | ppl {:8.2f}'.format(\n",
    "              ep, train_loss, math.exp(train_loss)))   \n",
    "            perplexity_train.append(math.exp(train_loss))   \n",
    "        if eval_during_train and ep % eval_interval == 0:\n",
    "            eval_loss, perp_test = evaluate(model, criterion, evalloader)            # evaluate model with unseen data\n",
    "            validation_losses.append( eval_loss)\n",
    "            perplexity_test.append(perp_test)\n",
    "        if ep % save_interval == 0:\n",
    "            torch.save(model, '/content/drive/MyDrive/'\n",
    "                       + model_name + '.p')\n",
    "        if scheduler:\n",
    "            scheduler.step(eval_loss)                                                # scheduler LR update\n",
    "        print(f'learning rate {getLR(optimizer):.5f}')                               # observe lr changes\n",
    "    return train_losses, validation_losses, perplexity_train, perplexity_test\n",
    "    "
   ]
  },
  {
   "cell_type": "code",
   "execution_count": 65,
   "metadata": {
    "executionInfo": {
     "elapsed": 518,
     "status": "ok",
     "timestamp": 1611035974682,
     "user": {
      "displayName": "ETA Kaggle",
      "photoUrl": "",
      "userId": "16314910698452963170"
     },
     "user_tz": -180
    },
    "id": "ye2n8de4jOOU"
   },
   "outputs": [],
   "source": [
    "def generate(model, data, data_idx_dict, idx_data_dict, \n",
    "             len_hist=50, len_gen=50, device='cuda'):\n",
    "    \"\"\" Generate text function\n",
    "        To get the predictions of the model, sample from the output distribution\n",
    "        instead of taking the argmax\n",
    "    Args:\n",
    "        model: network model\n",
    "        data: data\n",
    "        data_idx_dict: data to index dictionary\n",
    "        idx_data_dict: index to data dictionary\n",
    "        len_hist: length of history\n",
    "        len_gen: length to generate\n",
    "        device: cpu or cuda\n",
    "    \"\"\"\n",
    "    \"\"\"Fill in parts with None\"\"\"\n",
    "    model.eval()\n",
    "    state = model.initialize(1)\n",
    "\n",
    "    generated_text = data + [\"=====>\"]\n",
    "    for i in range(len_gen):\n",
    "        x = torch.tensor([[data_idx_dict[word] for word in data]])               # read input words \n",
    "        with torch.no_grad():\n",
    "            y_pred, state = model(x, state)                                      # execute model \n",
    "        last_word_logits = y_pred[0][-1]\n",
    "        p = torch.nn.functional.softmax(last_word_logits, dim=0)                 # get probs with softmax \n",
    "        probs, indices = torch.sort(p, descending=True)\n",
    "        mask = probs.cumsum(-1) > 0.85\n",
    "        mask[0] = False\n",
    "        probs.masked_fill(mask, 0)\n",
    "        word_index = indices[probs.multinomial(1)[0]].item()                     # find index of selected words \n",
    "        word = idx_data_dict[word_index]                                         # find the word from dictionary \n",
    "        data = [word]\n",
    "        generated_text.append(word)\n",
    "    return ' '.join(generated_text)\n",
    "\n"
   ]
  },
  {
   "cell_type": "markdown",
   "metadata": {
    "id": "v9i3QwJtjOOW"
   },
   "source": [
    "## Training and Experimentation "
   ]
  },
  {
   "cell_type": "markdown",
   "metadata": {
    "id": "b1XlTbst6ABQ"
   },
   "source": [
    "Train and tune 3 networks as follows: Network with RNNModel without gradient clipping, network with RNNModel with gradient clipping, and network with GatedModel (LSTM or GRU according to your choice) without gradient clipping.  You should get a maximum validation perplexity of 120 for Pride and Prejudice and 125 for the other books. You should save your final models and provide them in the submission. You should plot the loss curves and perplexity curves for all 3 models in 2 figures (one for loss and one for perplexity). These plots should ve saved as a seperate image file and provided in submission for safety. Finally you should evaluate the final models and generate sample texts from each of them."
   ]
  },
  {
   "cell_type": "markdown",
   "metadata": {
    "id": "MefR9SLp6ABR"
   },
   "source": [
    "Sequence length should be at least 20."
   ]
  },
  {
   "cell_type": "markdown",
   "metadata": {
    "id": "cA4StyGv6ABR"
   },
   "source": [
    "### Examples:"
   ]
  },
  {
   "cell_type": "code",
   "execution_count": 66,
   "metadata": {
    "executionInfo": {
     "elapsed": 529,
     "status": "ok",
     "timestamp": 1611035977149,
     "user": {
      "displayName": "ETA Kaggle",
      "photoUrl": "",
      "userId": "16314910698452963170"
     },
     "user_tz": -180
    },
    "id": "3MGkLfBQAIH5"
   },
   "outputs": [],
   "source": [
    "def getLR(optimizer):                            # observe lr step by step.\n",
    "  for paramgroup in optimizer.param_groups:\n",
    "    return paramgroup[\"lr\"]"
   ]
  },
  {
   "cell_type": "code",
   "execution_count": 111,
   "metadata": {
    "colab": {
     "base_uri": "https://localhost:8080/"
    },
    "executionInfo": {
     "elapsed": 675464,
     "status": "ok",
     "timestamp": 1611041600142,
     "user": {
      "displayName": "ETA Kaggle",
      "photoUrl": "",
      "userId": "16314910698452963170"
     },
     "user_tz": -180
    },
    "id": "MQcmRbLK6ABR",
    "outputId": "b6d1c66f-6cc8-4ebb-ea65-7dbba859aa48"
   },
   "outputs": [
    {
     "name": "stdout",
     "output_type": "stream",
     "text": [
      "mkdir: cannot create directory ‘models’: File exists\n",
      "6611\n",
      "Epoch 0 \n",
      "\tTraining loss    6.70 | ppl   814.52\n",
      "\tEvaluation loss  5.95 | ppl   383.08\n",
      "learning rate 0.00050\n",
      "Epoch 1 \n",
      "\tTraining loss    6.00 | ppl   402.85\n",
      "\tEvaluation loss  5.92 | ppl   372.19\n",
      "learning rate 0.00050\n",
      "Epoch 2 \n",
      "\tTraining loss    5.89 | ppl   362.05\n",
      "\tEvaluation loss  5.74 | ppl   312.39\n",
      "learning rate 0.00050\n",
      "Epoch 3 \n",
      "\tTraining loss    5.70 | ppl   299.89\n",
      "\tEvaluation loss  5.57 | ppl   261.59\n",
      "learning rate 0.00050\n",
      "Epoch 4 \n",
      "\tTraining loss    5.53 | ppl   251.80\n",
      "\tEvaluation loss  5.43 | ppl   228.82\n",
      "learning rate 0.00050\n",
      "Epoch 5 \n",
      "\tTraining loss    5.40 | ppl   220.36\n",
      "\tEvaluation loss  5.34 | ppl   207.90\n",
      "learning rate 0.00050\n",
      "Epoch 6 \n",
      "\tTraining loss    5.29 | ppl   198.47\n",
      "\tEvaluation loss  5.27 | ppl   193.59\n",
      "learning rate 0.00050\n",
      "Epoch 7 \n",
      "\tTraining loss    5.21 | ppl   182.93\n",
      "\tEvaluation loss  5.21 | ppl   183.53\n",
      "learning rate 0.00050\n",
      "Epoch 8 \n",
      "\tTraining loss    5.14 | ppl   171.13\n",
      "\tEvaluation loss  5.17 | ppl   175.89\n",
      "learning rate 0.00050\n",
      "Epoch 9 \n",
      "\tTraining loss    5.09 | ppl   161.89\n",
      "\tEvaluation loss  5.14 | ppl   169.99\n",
      "learning rate 0.00050\n",
      "Epoch 10 \n",
      "\tTraining loss    5.04 | ppl   154.22\n",
      "\tEvaluation loss  5.11 | ppl   165.17\n",
      "learning rate 0.00050\n",
      "Epoch 11 \n",
      "\tTraining loss    5.00 | ppl   147.86\n",
      "\tEvaluation loss  5.08 | ppl   161.14\n",
      "learning rate 0.00050\n",
      "Epoch 12 \n",
      "\tTraining loss    4.96 | ppl   142.31\n",
      "\tEvaluation loss  5.06 | ppl   157.83\n",
      "learning rate 0.00050\n",
      "Epoch 13 \n",
      "\tTraining loss    4.92 | ppl   137.51\n",
      "\tEvaluation loss  5.04 | ppl   154.79\n",
      "learning rate 0.00050\n",
      "Epoch 14 \n",
      "\tTraining loss    4.89 | ppl   133.24\n",
      "\tEvaluation loss  5.03 | ppl   152.28\n",
      "learning rate 0.00050\n",
      "Epoch 15 \n",
      "\tTraining loss    4.86 | ppl   129.32\n",
      "\tEvaluation loss  5.01 | ppl   149.87\n",
      "learning rate 0.00050\n",
      "Epoch 16 \n",
      "\tTraining loss    4.84 | ppl   125.90\n",
      "\tEvaluation loss  5.00 | ppl   147.81\n",
      "learning rate 0.00050\n",
      "Epoch 17 \n",
      "\tTraining loss    4.81 | ppl   122.68\n",
      "\tEvaluation loss  4.98 | ppl   145.94\n",
      "learning rate 0.00050\n",
      "Epoch 18 \n",
      "\tTraining loss    4.78 | ppl   119.67\n",
      "\tEvaluation loss  4.97 | ppl   144.11\n",
      "learning rate 0.00050\n",
      "Epoch 19 \n",
      "\tTraining loss    4.76 | ppl   116.94\n",
      "\tEvaluation loss  4.96 | ppl   142.50\n",
      "learning rate 0.00050\n",
      "Epoch 20 \n",
      "\tTraining loss    4.74 | ppl   114.28\n",
      "\tEvaluation loss  4.95 | ppl   140.96\n",
      "learning rate 0.00050\n",
      "Epoch 21 \n",
      "\tTraining loss    4.72 | ppl   111.83\n",
      "\tEvaluation loss  4.94 | ppl   139.46\n",
      "learning rate 0.00050\n",
      "Epoch 22 \n",
      "\tTraining loss    4.70 | ppl   109.49\n",
      "\tEvaluation loss  4.93 | ppl   138.12\n",
      "learning rate 0.00050\n",
      "Epoch 23 \n",
      "\tTraining loss    4.68 | ppl   107.29\n",
      "\tEvaluation loss  4.92 | ppl   136.76\n",
      "learning rate 0.00050\n",
      "Epoch 24 \n",
      "\tTraining loss    4.66 | ppl   105.19\n",
      "\tEvaluation loss  4.91 | ppl   135.51\n",
      "learning rate 0.00050\n",
      "Epoch 25 \n",
      "\tTraining loss    4.64 | ppl   103.18\n",
      "\tEvaluation loss  4.90 | ppl   134.38\n",
      "learning rate 0.00050\n",
      "Epoch 26 \n",
      "\tTraining loss    4.62 | ppl   101.29\n",
      "\tEvaluation loss  4.89 | ppl   133.14\n",
      "learning rate 0.00050\n",
      "Epoch 27 \n",
      "\tTraining loss    4.60 | ppl    99.44\n",
      "\tEvaluation loss  4.88 | ppl   132.08\n",
      "learning rate 0.00050\n",
      "Epoch 28 \n",
      "\tTraining loss    4.58 | ppl    97.65\n",
      "\tEvaluation loss  4.88 | ppl   131.09\n",
      "learning rate 0.00050\n",
      "Epoch 29 \n",
      "\tTraining loss    4.56 | ppl    95.95\n",
      "\tEvaluation loss  4.87 | ppl   130.08\n",
      "learning rate 0.00050\n",
      "Epoch 30 \n",
      "\tTraining loss    4.55 | ppl    94.33\n",
      "\tEvaluation loss  4.86 | ppl   129.11\n",
      "learning rate 0.00050\n",
      "Epoch 31 \n",
      "\tTraining loss    4.53 | ppl    92.70\n",
      "\tEvaluation loss  4.85 | ppl   128.26\n",
      "learning rate 0.00050\n",
      "Epoch 32 \n",
      "\tTraining loss    4.51 | ppl    91.17\n",
      "\tEvaluation loss  4.85 | ppl   127.40\n",
      "learning rate 0.00050\n",
      "Epoch 33 \n",
      "\tTraining loss    4.50 | ppl    89.64\n",
      "\tEvaluation loss  4.84 | ppl   126.59\n",
      "learning rate 0.00050\n",
      "Epoch 34 \n",
      "\tTraining loss    4.48 | ppl    88.13\n",
      "\tEvaluation loss  4.83 | ppl   125.75\n",
      "learning rate 0.00050\n",
      "Epoch 35 \n",
      "\tTraining loss    4.46 | ppl    86.71\n",
      "\tEvaluation loss  4.83 | ppl   125.00\n",
      "learning rate 0.00050\n",
      "Epoch 36 \n",
      "\tTraining loss    4.45 | ppl    85.30\n",
      "\tEvaluation loss  4.82 | ppl   124.29\n",
      "learning rate 0.00025\n",
      "Epoch 37 \n",
      "\tTraining loss    4.41 | ppl    82.66\n",
      "\tEvaluation loss  4.81 | ppl   123.30\n",
      "learning rate 0.00025\n",
      "Epoch 38 \n",
      "\tTraining loss    4.40 | ppl    81.83\n",
      "\tEvaluation loss  4.81 | ppl   122.94\n",
      "learning rate 0.00025\n",
      "Epoch 39 \n",
      "\tTraining loss    4.40 | ppl    81.10\n",
      "\tEvaluation loss  4.81 | ppl   122.66\n",
      "learning rate 0.00025\n",
      "Epoch 40 \n",
      "\tTraining loss    4.39 | ppl    80.43\n",
      "\tEvaluation loss  4.81 | ppl   122.29\n",
      "learning rate 0.00025\n",
      "Epoch 41 \n",
      "\tTraining loss    4.38 | ppl    79.77\n",
      "\tEvaluation loss  4.80 | ppl   122.00\n",
      "learning rate 0.00025\n",
      "Epoch 42 \n",
      "\tTraining loss    4.37 | ppl    79.13\n",
      "\tEvaluation loss  4.80 | ppl   121.74\n",
      "learning rate 0.00025\n",
      "Epoch 43 \n",
      "\tTraining loss    4.36 | ppl    78.47\n",
      "\tEvaluation loss  4.80 | ppl   121.42\n",
      "learning rate 0.00025\n",
      "Epoch 44 \n",
      "\tTraining loss    4.36 | ppl    77.88\n",
      "\tEvaluation loss  4.80 | ppl   121.12\n",
      "learning rate 0.00013\n",
      "Epoch 45 \n",
      "\tTraining loss    4.34 | ppl    76.48\n",
      "\tEvaluation loss  4.80 | ppl   121.25\n",
      "learning rate 0.00013\n",
      "Epoch 46 \n",
      "\tTraining loss    4.33 | ppl    76.16\n",
      "\tEvaluation loss  4.80 | ppl   121.10\n",
      "learning rate 0.00013\n",
      "Epoch 47 \n",
      "\tTraining loss    4.33 | ppl    75.82\n",
      "\tEvaluation loss  4.80 | ppl   120.94\n",
      "learning rate 0.00013\n",
      "Epoch 48 \n",
      "\tTraining loss    4.32 | ppl    75.53\n",
      "\tEvaluation loss  4.79 | ppl   120.78\n",
      "learning rate 0.00013\n",
      "Epoch 49 \n",
      "\tTraining loss    4.32 | ppl    75.21\n",
      "\tEvaluation loss  4.79 | ppl   120.63\n",
      "learning rate 0.00013\n",
      "Epoch 50 \n",
      "\tTraining loss    4.32 | ppl    74.90\n",
      "\tEvaluation loss  4.79 | ppl   120.52\n",
      "learning rate 0.00013\n",
      "Epoch 51 \n",
      "\tTraining loss    4.31 | ppl    74.61\n",
      "\tEvaluation loss  4.79 | ppl   120.39\n",
      "learning rate 0.00006\n",
      "Epoch 52 \n",
      "\tTraining loss    4.30 | ppl    73.92\n",
      "\tEvaluation loss  4.79 | ppl   120.08\n",
      "learning rate 0.00006\n",
      "Epoch 53 \n",
      "\tTraining loss    4.30 | ppl    73.78\n",
      "\tEvaluation loss  4.79 | ppl   120.01\n",
      "learning rate 0.00006\n",
      "Epoch 54 \n",
      "\tTraining loss    4.30 | ppl    73.60\n",
      "\tEvaluation loss  4.79 | ppl   119.93\n",
      "learning rate 0.00006\n"
     ]
    }
   ],
   "source": [
    "nepoch = 55\n",
    "lr = 0.00025\n",
    "lr = 0.0005\n",
    "!mkdir models \n",
    "ntoken = len(train_dataset.unique_data)                                                                                       # number of unique words\n",
    "print(ntoken)\n",
    "model = RNNModel(ntoken, embed_size=128, hidden_size=128, \n",
    "                 hidden_layers=2, batch_size=1024, dropout=0.45, device='cuda')                                               # model with tuned parameters\n",
    "\n",
    "criterion = torch.nn.CrossEntropyLoss()                                                                                       # defined loss fn\n",
    "optimizer = torch.optim.Adam(model.parameters(), lr=lr, weight_decay=0.0001)                                                  # defindd optimizer\n",
    "\n",
    "#scheduler = torch.optim.lr_scheduler.CosineAnnealingLR(optimizer, nepoch + 10)                                               # decrease lr with a rate that makes zero at nepoch + 10 step later\n",
    "scheduler = torch.optim.lr_scheduler.ReduceLROnPlateau(optimizer,'min', patience  = 6, factor  = 0.5, threshold = 1e-2)       # decrease lr if no changes in loss for the next 6 steps \n",
    "                                                                                                                              # new_lr = old_lr * 0.5 | no changes -> less than 1e-2\n",
    "#scheduler = torch.optim.lr_scheduler.StepLR(optimizer, step_size=30, gamma=0.9)                                              # makes new lr after step_size iteration *gamma\n",
    "#scheduler = False\n",
    "train_losses, validation_losses, perplexity_train, perplexity_test = train(trainloader, evalloader, model, optimizer, criterion, nepoch, grad_clip=False, clip_val=1, scheduler=scheduler)"
   ]
  },
  {
   "cell_type": "code",
   "execution_count": 80,
   "metadata": {
    "colab": {
     "base_uri": "https://localhost:8080/"
    },
    "executionInfo": {
     "elapsed": 682343,
     "status": "ok",
     "timestamp": 1611037577275,
     "user": {
      "displayName": "ETA Kaggle",
      "photoUrl": "",
      "userId": "16314910698452963170"
     },
     "user_tz": -180
    },
    "id": "aj50EiNRDryK",
    "outputId": "331ffd5a-cdda-4c8d-e40f-8d703d66a2ed"
   },
   "outputs": [
    {
     "name": "stdout",
     "output_type": "stream",
     "text": [
      "mkdir: cannot create directory ‘models’: File exists\n",
      "6611\n",
      "Epoch 0 \n",
      "\tTraining loss    6.73 | ppl   839.55\n",
      "\tEvaluation loss  5.95 | ppl   382.36\n",
      "learning rate 0.00050\n",
      "Epoch 1 \n",
      "\tTraining loss    5.99 | ppl   400.34\n",
      "\tEvaluation loss  5.90 | ppl   363.25\n",
      "learning rate 0.00050\n",
      "Epoch 2 \n",
      "\tTraining loss    5.86 | ppl   351.98\n",
      "\tEvaluation loss  5.71 | ppl   301.47\n",
      "learning rate 0.00050\n",
      "Epoch 3 \n",
      "\tTraining loss    5.67 | ppl   289.63\n",
      "\tEvaluation loss  5.53 | ppl   252.76\n",
      "learning rate 0.00050\n",
      "Epoch 4 \n",
      "\tTraining loss    5.50 | ppl   244.65\n",
      "\tEvaluation loss  5.41 | ppl   223.63\n",
      "learning rate 0.00050\n",
      "Epoch 5 \n",
      "\tTraining loss    5.38 | ppl   216.36\n",
      "\tEvaluation loss  5.33 | ppl   205.63\n",
      "learning rate 0.00050\n",
      "Epoch 6 \n",
      "\tTraining loss    5.28 | ppl   197.00\n",
      "\tEvaluation loss  5.26 | ppl   193.43\n",
      "learning rate 0.00050\n",
      "Epoch 7 \n",
      "\tTraining loss    5.21 | ppl   182.80\n",
      "\tEvaluation loss  5.22 | ppl   184.34\n",
      "learning rate 0.00050\n",
      "Epoch 8 \n",
      "\tTraining loss    5.15 | ppl   171.86\n",
      "\tEvaluation loss  5.18 | ppl   177.35\n",
      "learning rate 0.00050\n",
      "Epoch 9 \n",
      "\tTraining loss    5.09 | ppl   163.00\n",
      "\tEvaluation loss  5.15 | ppl   171.67\n",
      "learning rate 0.00050\n",
      "Epoch 10 \n",
      "\tTraining loss    5.05 | ppl   155.66\n",
      "\tEvaluation loss  5.12 | ppl   166.87\n",
      "learning rate 0.00050\n",
      "Epoch 11 \n",
      "\tTraining loss    5.01 | ppl   149.33\n",
      "\tEvaluation loss  5.09 | ppl   162.75\n",
      "learning rate 0.00050\n",
      "Epoch 12 \n",
      "\tTraining loss    4.97 | ppl   143.83\n",
      "\tEvaluation loss  5.07 | ppl   159.34\n",
      "learning rate 0.00050\n",
      "Epoch 13 \n",
      "\tTraining loss    4.93 | ppl   138.90\n",
      "\tEvaluation loss  5.05 | ppl   156.19\n",
      "learning rate 0.00050\n",
      "Epoch 14 \n",
      "\tTraining loss    4.90 | ppl   134.69\n",
      "\tEvaluation loss  5.03 | ppl   153.54\n",
      "learning rate 0.00050\n",
      "Epoch 15 \n",
      "\tTraining loss    4.87 | ppl   130.74\n",
      "\tEvaluation loss  5.02 | ppl   151.09\n",
      "learning rate 0.00050\n",
      "Epoch 16 \n",
      "\tTraining loss    4.85 | ppl   127.15\n",
      "\tEvaluation loss  5.00 | ppl   148.93\n",
      "learning rate 0.00050\n",
      "Epoch 17 \n",
      "\tTraining loss    4.82 | ppl   123.88\n",
      "\tEvaluation loss  4.99 | ppl   146.84\n",
      "learning rate 0.00050\n",
      "Epoch 18 \n",
      "\tTraining loss    4.79 | ppl   120.82\n",
      "\tEvaluation loss  4.98 | ppl   144.98\n",
      "learning rate 0.00050\n",
      "Epoch 19 \n",
      "\tTraining loss    4.77 | ppl   118.03\n",
      "\tEvaluation loss  4.97 | ppl   143.42\n",
      "learning rate 0.00050\n",
      "Epoch 20 \n",
      "\tTraining loss    4.75 | ppl   115.38\n",
      "\tEvaluation loss  4.95 | ppl   141.76\n",
      "learning rate 0.00050\n",
      "Epoch 21 \n",
      "\tTraining loss    4.73 | ppl   112.86\n",
      "\tEvaluation loss  4.94 | ppl   140.21\n",
      "learning rate 0.00050\n",
      "Epoch 22 \n",
      "\tTraining loss    4.70 | ppl   110.49\n",
      "\tEvaluation loss  4.93 | ppl   138.85\n",
      "learning rate 0.00050\n",
      "Epoch 23 \n",
      "\tTraining loss    4.68 | ppl   108.23\n",
      "\tEvaluation loss  4.92 | ppl   137.46\n",
      "learning rate 0.00050\n",
      "Epoch 24 \n",
      "\tTraining loss    4.66 | ppl   106.16\n",
      "\tEvaluation loss  4.91 | ppl   136.24\n",
      "learning rate 0.00050\n",
      "Epoch 25 \n",
      "\tTraining loss    4.65 | ppl   104.17\n",
      "\tEvaluation loss  4.91 | ppl   134.98\n",
      "learning rate 0.00050\n",
      "Epoch 26 \n",
      "\tTraining loss    4.63 | ppl   102.16\n",
      "\tEvaluation loss  4.90 | ppl   133.74\n",
      "learning rate 0.00050\n",
      "Epoch 27 \n",
      "\tTraining loss    4.61 | ppl   100.34\n",
      "\tEvaluation loss  4.89 | ppl   132.75\n",
      "learning rate 0.00050\n",
      "Epoch 28 \n",
      "\tTraining loss    4.59 | ppl    98.54\n",
      "\tEvaluation loss  4.88 | ppl   131.64\n",
      "learning rate 0.00050\n",
      "Epoch 29 \n",
      "\tTraining loss    4.57 | ppl    96.77\n",
      "\tEvaluation loss  4.87 | ppl   130.58\n",
      "learning rate 0.00050\n",
      "Epoch 30 \n",
      "\tTraining loss    4.56 | ppl    95.11\n",
      "\tEvaluation loss  4.86 | ppl   129.60\n",
      "learning rate 0.00050\n",
      "Epoch 31 \n",
      "\tTraining loss    4.54 | ppl    93.47\n",
      "\tEvaluation loss  4.86 | ppl   128.67\n",
      "learning rate 0.00050\n",
      "Epoch 32 \n",
      "\tTraining loss    4.52 | ppl    91.91\n",
      "\tEvaluation loss  4.85 | ppl   127.73\n",
      "learning rate 0.00050\n",
      "Epoch 33 \n",
      "\tTraining loss    4.50 | ppl    90.37\n",
      "\tEvaluation loss  4.84 | ppl   126.90\n",
      "learning rate 0.00050\n",
      "Epoch 34 \n",
      "\tTraining loss    4.49 | ppl    88.87\n",
      "\tEvaluation loss  4.84 | ppl   126.07\n",
      "learning rate 0.00050\n",
      "Epoch 35 \n",
      "\tTraining loss    4.47 | ppl    87.43\n",
      "\tEvaluation loss  4.83 | ppl   125.24\n",
      "learning rate 0.00050\n",
      "Epoch 36 \n",
      "\tTraining loss    4.45 | ppl    85.99\n",
      "\tEvaluation loss  4.82 | ppl   124.47\n",
      "learning rate 0.00050\n",
      "Epoch 37 \n",
      "\tTraining loss    4.44 | ppl    84.64\n",
      "\tEvaluation loss  4.82 | ppl   123.81\n",
      "learning rate 0.00050\n",
      "Epoch 38 \n",
      "\tTraining loss    4.42 | ppl    83.29\n",
      "\tEvaluation loss  4.81 | ppl   123.06\n",
      "learning rate 0.00050\n",
      "Epoch 39 \n",
      "\tTraining loss    4.41 | ppl    81.99\n",
      "\tEvaluation loss  4.81 | ppl   122.43\n",
      "learning rate 0.00050\n",
      "Epoch 40 \n",
      "\tTraining loss    4.39 | ppl    80.70\n",
      "\tEvaluation loss  4.80 | ppl   121.80\n",
      "learning rate 0.00050\n",
      "Epoch 41 \n",
      "\tTraining loss    4.38 | ppl    79.47\n",
      "\tEvaluation loss  4.80 | ppl   121.28\n",
      "learning rate 0.00050\n",
      "Epoch 42 \n",
      "\tTraining loss    4.36 | ppl    78.26\n",
      "\tEvaluation loss  4.79 | ppl   120.72\n",
      "learning rate 0.00025\n",
      "Epoch 43 \n",
      "\tTraining loss    4.33 | ppl    75.83\n",
      "\tEvaluation loss  4.79 | ppl   119.94\n",
      "learning rate 0.00025\n",
      "Epoch 44 \n",
      "\tTraining loss    4.32 | ppl    75.14\n",
      "\tEvaluation loss  4.78 | ppl   119.65\n",
      "learning rate 0.00025\n",
      "Epoch 45 \n",
      "\tTraining loss    4.31 | ppl    74.49\n",
      "\tEvaluation loss  4.78 | ppl   119.44\n",
      "learning rate 0.00025\n",
      "Epoch 46 \n",
      "\tTraining loss    4.30 | ppl    73.90\n",
      "\tEvaluation loss  4.78 | ppl   119.16\n",
      "learning rate 0.00025\n",
      "Epoch 47 \n",
      "\tTraining loss    4.29 | ppl    73.33\n",
      "\tEvaluation loss  4.78 | ppl   118.91\n",
      "learning rate 0.00025\n",
      "Epoch 48 \n",
      "\tTraining loss    4.29 | ppl    72.77\n",
      "\tEvaluation loss  4.78 | ppl   118.73\n",
      "learning rate 0.00025\n",
      "Epoch 49 \n",
      "\tTraining loss    4.28 | ppl    72.21\n",
      "\tEvaluation loss  4.78 | ppl   118.54\n",
      "learning rate 0.00025\n",
      "Epoch 50 \n",
      "\tTraining loss    4.27 | ppl    71.66\n",
      "\tEvaluation loss  4.77 | ppl   118.33\n",
      "learning rate 0.00025\n",
      "Epoch 51 \n",
      "\tTraining loss    4.26 | ppl    71.12\n",
      "\tEvaluation loss  4.77 | ppl   118.18\n",
      "learning rate 0.00025\n",
      "Epoch 52 \n",
      "\tTraining loss    4.26 | ppl    70.59\n",
      "\tEvaluation loss  4.77 | ppl   117.94\n",
      "learning rate 0.00025\n",
      "Epoch 53 \n",
      "\tTraining loss    4.25 | ppl    70.08\n",
      "\tEvaluation loss  4.77 | ppl   117.81\n",
      "learning rate 0.00013\n",
      "Epoch 54 \n",
      "\tTraining loss    4.23 | ppl    68.87\n",
      "\tEvaluation loss  4.77 | ppl   117.90\n",
      "learning rate 0.00013\n"
     ]
    }
   ],
   "source": [
    "\"\"\"\n",
    "Same parameters are used with RNN Without clip \n",
    "but turned on the clip option and clip value tuned to 0.8\n",
    "\"\"\"\n",
    "\n",
    "nepoch = 55\n",
    "lr = 0.00025\n",
    "lr = 0.0005\n",
    "!mkdir models\n",
    "ntoken = len(train_dataset.unique_data)\n",
    "print(ntoken)\n",
    "modelclip = RNNModel(ntoken, embed_size=128, hidden_size=128,\n",
    "                 hidden_layers=2, batch_size=1024, dropout=0.45)\n",
    "criterion = torch.nn.CrossEntropyLoss()\n",
    "optimizer = torch.optim.Adam(modelclip.parameters(), lr=lr, weight_decay=0.0001)\n",
    "\n",
    "#scheduler = torch.optim.lr_scheduler.CosineAnnealingLR(optimizer, nepoch + 10)\n",
    "scheduler = torch.optim.lr_scheduler.ReduceLROnPlateau(optimizer,'min', patience  = 6, factor  = 0.5, threshold = 1e-2)\n",
    "#scheduler = torch.optim.lr_scheduler.StepLR(optimizer, step_size=30, gamma=0.9)\n",
    "#scheduler = False\n",
    "\n",
    "clip_train_losses, clip_validation_losses, clip_perplexity_train, clip_perplexity_test = train(trainloader, evalloader, modelclip, optimizer, criterion, nepoch, grad_clip=True, clip_val=0.8, scheduler=scheduler, model_name='model_clip')"
   ]
  },
  {
   "cell_type": "code",
   "execution_count": 110,
   "metadata": {
    "colab": {
     "base_uri": "https://localhost:8080/"
    },
    "executionInfo": {
     "elapsed": 625929,
     "status": "ok",
     "timestamp": 1611040891824,
     "user": {
      "displayName": "ETA Kaggle",
      "photoUrl": "",
      "userId": "16314910698452963170"
     },
     "user_tz": -180
    },
    "id": "qMsxNkjgZjoP",
    "outputId": "d796a2d0-3725-48ba-b3ee-f8bfa7fc977b"
   },
   "outputs": [
    {
     "name": "stdout",
     "output_type": "stream",
     "text": [
      "mkdir: cannot create directory ‘models’: File exists\n",
      "6611\n",
      "Epoch 0 \n",
      "\tTraining loss    6.34 | ppl   564.32\n",
      "\tEvaluation loss  6.07 | ppl   433.52\n",
      "learning rate 0.00670\n",
      "Epoch 1 \n",
      "\tTraining loss    6.11 | ppl   451.23\n",
      "\tEvaluation loss  5.93 | ppl   375.95\n",
      "learning rate 0.00670\n",
      "Epoch 2 \n",
      "\tTraining loss    5.80 | ppl   329.74\n",
      "\tEvaluation loss  5.56 | ppl   259.73\n",
      "learning rate 0.00670\n",
      "Epoch 3 \n",
      "\tTraining loss    5.47 | ppl   237.54\n",
      "\tEvaluation loss  5.31 | ppl   202.10\n",
      "learning rate 0.00670\n",
      "Epoch 4 \n",
      "\tTraining loss    5.24 | ppl   188.80\n",
      "\tEvaluation loss  5.17 | ppl   176.35\n",
      "learning rate 0.00670\n",
      "Epoch 5 \n",
      "\tTraining loss    5.11 | ppl   164.88\n",
      "\tEvaluation loss  5.10 | ppl   163.98\n",
      "learning rate 0.00670\n",
      "Epoch 6 \n",
      "\tTraining loss    5.02 | ppl   150.68\n",
      "\tEvaluation loss  5.05 | ppl   156.64\n",
      "learning rate 0.00670\n",
      "Epoch 7 \n",
      "\tTraining loss    4.95 | ppl   141.08\n",
      "\tEvaluation loss  5.02 | ppl   151.31\n",
      "learning rate 0.00670\n",
      "Epoch 8 \n",
      "\tTraining loss    4.90 | ppl   134.21\n",
      "\tEvaluation loss  4.99 | ppl   147.14\n",
      "learning rate 0.00670\n",
      "Epoch 9 \n",
      "\tTraining loss    4.86 | ppl   128.99\n",
      "\tEvaluation loss  4.97 | ppl   143.85\n",
      "learning rate 0.00670\n",
      "Epoch 10 \n",
      "\tTraining loss    4.83 | ppl   125.02\n",
      "\tEvaluation loss  4.95 | ppl   141.40\n",
      "learning rate 0.00670\n",
      "Epoch 11 \n",
      "\tTraining loss    4.80 | ppl   121.78\n",
      "\tEvaluation loss  4.94 | ppl   139.75\n",
      "learning rate 0.00670\n",
      "Epoch 12 \n",
      "\tTraining loss    4.78 | ppl   119.11\n",
      "\tEvaluation loss  4.93 | ppl   138.39\n",
      "learning rate 0.00670\n",
      "Epoch 13 \n",
      "\tTraining loss    4.76 | ppl   116.76\n",
      "\tEvaluation loss  4.92 | ppl   137.28\n",
      "learning rate 0.00670\n",
      "Epoch 14 \n",
      "\tTraining loss    4.74 | ppl   114.81\n",
      "\tEvaluation loss  4.91 | ppl   135.96\n",
      "learning rate 0.00670\n",
      "Epoch 15 \n",
      "\tTraining loss    4.73 | ppl   112.94\n",
      "\tEvaluation loss  4.91 | ppl   135.57\n",
      "learning rate 0.00670\n",
      "Epoch 16 \n",
      "\tTraining loss    4.71 | ppl   111.41\n",
      "\tEvaluation loss  4.90 | ppl   134.14\n",
      "learning rate 0.00670\n",
      "Epoch 17 \n",
      "\tTraining loss    4.70 | ppl   110.03\n",
      "\tEvaluation loss  4.89 | ppl   133.61\n",
      "learning rate 0.00670\n",
      "Epoch 18 \n",
      "\tTraining loss    4.69 | ppl   108.64\n",
      "\tEvaluation loss  4.89 | ppl   132.59\n",
      "learning rate 0.00670\n",
      "Epoch 19 \n",
      "\tTraining loss    4.68 | ppl   107.49\n",
      "\tEvaluation loss  4.88 | ppl   132.06\n",
      "learning rate 0.00670\n",
      "Epoch 20 \n",
      "\tTraining loss    4.67 | ppl   106.36\n",
      "\tEvaluation loss  4.88 | ppl   131.01\n",
      "learning rate 0.00670\n",
      "Epoch 21 \n",
      "\tTraining loss    4.66 | ppl   105.26\n",
      "\tEvaluation loss  4.87 | ppl   130.45\n",
      "learning rate 0.00335\n",
      "Epoch 22 \n",
      "\tTraining loss    4.57 | ppl    96.81\n",
      "\tEvaluation loss  4.84 | ppl   126.42\n",
      "learning rate 0.00335\n",
      "Epoch 23 \n",
      "\tTraining loss    4.55 | ppl    94.96\n",
      "\tEvaluation loss  4.83 | ppl   125.74\n",
      "learning rate 0.00335\n",
      "Epoch 24 \n",
      "\tTraining loss    4.55 | ppl    94.30\n",
      "\tEvaluation loss  4.83 | ppl   125.23\n",
      "learning rate 0.00335\n",
      "Epoch 25 \n",
      "\tTraining loss    4.54 | ppl    93.62\n",
      "\tEvaluation loss  4.83 | ppl   124.96\n",
      "learning rate 0.00335\n",
      "Epoch 26 \n",
      "\tTraining loss    4.53 | ppl    93.07\n",
      "\tEvaluation loss  4.83 | ppl   124.71\n",
      "learning rate 0.00335\n",
      "Epoch 27 \n",
      "\tTraining loss    4.53 | ppl    92.47\n",
      "\tEvaluation loss  4.83 | ppl   124.70\n",
      "learning rate 0.00335\n",
      "Epoch 28 \n",
      "\tTraining loss    4.52 | ppl    91.97\n",
      "\tEvaluation loss  4.82 | ppl   124.46\n",
      "learning rate 0.00335\n",
      "Epoch 29 \n",
      "\tTraining loss    4.52 | ppl    91.44\n",
      "\tEvaluation loss  4.82 | ppl   124.33\n",
      "learning rate 0.00168\n",
      "Epoch 30 \n",
      "\tTraining loss    4.46 | ppl    86.65\n",
      "\tEvaluation loss  4.80 | ppl   122.12\n",
      "learning rate 0.00168\n",
      "Epoch 31 \n",
      "\tTraining loss    4.45 | ppl    85.62\n",
      "\tEvaluation loss  4.80 | ppl   121.68\n",
      "learning rate 0.00168\n",
      "Epoch 32 \n",
      "\tTraining loss    4.45 | ppl    85.25\n",
      "\tEvaluation loss  4.80 | ppl   121.55\n",
      "learning rate 0.00168\n",
      "Epoch 33 \n",
      "\tTraining loss    4.44 | ppl    84.92\n",
      "\tEvaluation loss  4.80 | ppl   121.43\n",
      "learning rate 0.00168\n",
      "Epoch 34 \n",
      "\tTraining loss    4.44 | ppl    84.59\n",
      "\tEvaluation loss  4.80 | ppl   121.37\n",
      "learning rate 0.00168\n",
      "Epoch 35 \n",
      "\tTraining loss    4.43 | ppl    84.29\n",
      "\tEvaluation loss  4.80 | ppl   121.36\n",
      "learning rate 0.00168\n",
      "Epoch 36 \n",
      "\tTraining loss    4.43 | ppl    84.03\n",
      "\tEvaluation loss  4.80 | ppl   121.29\n",
      "learning rate 0.00084\n",
      "Epoch 37 \n",
      "\tTraining loss    4.40 | ppl    81.24\n",
      "\tEvaluation loss  4.79 | ppl   120.54\n",
      "learning rate 0.00084\n",
      "Epoch 38 \n",
      "\tTraining loss    4.39 | ppl    80.77\n",
      "\tEvaluation loss  4.79 | ppl   120.46\n",
      "learning rate 0.00084\n",
      "Epoch 39 \n",
      "\tTraining loss    4.39 | ppl    80.51\n",
      "\tEvaluation loss  4.79 | ppl   120.39\n",
      "learning rate 0.00084\n",
      "Epoch 40 \n",
      "\tTraining loss    4.39 | ppl    80.34\n",
      "\tEvaluation loss  4.79 | ppl   120.35\n",
      "learning rate 0.00084\n",
      "Epoch 41 \n",
      "\tTraining loss    4.38 | ppl    80.13\n",
      "\tEvaluation loss  4.79 | ppl   120.30\n",
      "learning rate 0.00084\n",
      "Epoch 42 \n",
      "\tTraining loss    4.38 | ppl    79.99\n",
      "\tEvaluation loss  4.79 | ppl   120.27\n",
      "learning rate 0.00084\n",
      "Epoch 43 \n",
      "\tTraining loss    4.38 | ppl    79.77\n",
      "\tEvaluation loss  4.79 | ppl   120.28\n",
      "learning rate 0.00084\n",
      "Epoch 44 \n",
      "\tTraining loss    4.38 | ppl    79.61\n",
      "\tEvaluation loss  4.79 | ppl   120.24\n",
      "learning rate 0.00084\n",
      "Epoch 45 \n",
      "\tTraining loss    4.38 | ppl    79.48\n",
      "\tEvaluation loss  4.79 | ppl   120.26\n",
      "learning rate 0.00084\n",
      "Epoch 46 \n",
      "\tTraining loss    4.37 | ppl    79.33\n",
      "\tEvaluation loss  4.79 | ppl   120.19\n",
      "learning rate 0.00042\n",
      "Epoch 47 \n",
      "\tTraining loss    4.35 | ppl    77.76\n",
      "\tEvaluation loss  4.79 | ppl   120.17\n",
      "learning rate 0.00042\n",
      "Epoch 48 \n",
      "\tTraining loss    4.35 | ppl    77.53\n",
      "\tEvaluation loss  4.79 | ppl   120.11\n",
      "learning rate 0.00042\n",
      "Epoch 49 \n",
      "\tTraining loss    4.35 | ppl    77.46\n",
      "\tEvaluation loss  4.79 | ppl   120.08\n",
      "learning rate 0.00042\n",
      "Epoch 50 \n",
      "\tTraining loss    4.35 | ppl    77.34\n",
      "\tEvaluation loss  4.79 | ppl   120.08\n",
      "learning rate 0.00042\n",
      "Epoch 51 \n",
      "\tTraining loss    4.35 | ppl    77.25\n",
      "\tEvaluation loss  4.79 | ppl   120.07\n",
      "learning rate 0.00042\n",
      "Epoch 52 \n",
      "\tTraining loss    4.35 | ppl    77.15\n",
      "\tEvaluation loss  4.79 | ppl   120.03\n",
      "learning rate 0.00042\n",
      "Epoch 53 \n",
      "\tTraining loss    4.34 | ppl    77.06\n",
      "\tEvaluation loss  4.79 | ppl   120.04\n",
      "learning rate 0.00021\n",
      "Epoch 54 \n",
      "\tTraining loss    4.33 | ppl    76.24\n",
      "\tEvaluation loss  4.79 | ppl   119.97\n",
      "learning rate 0.00021\n"
     ]
    }
   ],
   "source": [
    "\"\"\"\n",
    "In LSTM, i have reached my target perplexity with \n",
    "less parameter and higher learning rate\n",
    "\"\"\"\n",
    "\n",
    "nepoch = 55\n",
    "lr = 0.00025\n",
    "lr = 0.0067\n",
    "!mkdir models\n",
    "ntoken = len(train_dataset.unique_data)\n",
    "print(ntoken)\n",
    "gatedmodel = GatedModel(ntoken, embed_size=64, hidden_size=64,\n",
    "                 hidden_layers=2, batch_size=1024, dropout=0.4)\n",
    "criterion = torch.nn.CrossEntropyLoss()\n",
    "optimizer = torch.optim.Adam(gatedmodel.parameters(), lr=lr, weight_decay=0.00009)\n",
    "#scheduler = torch.optim.lr_scheduler.CosineAnnealingLR(optimizer, nepoch + 10)\n",
    "scheduler = torch.optim.lr_scheduler.ReduceLROnPlateau(optimizer,'min', patience  = 6, factor  = 0.5, threshold = 1e-2)\n",
    "#scheduler = torch.optim.lr_scheduler.StepLR(optimizer, step_size=30, gamma=0.9)\n",
    "#scheduler = False\n",
    "gated_train_losses, gated_validation_losses, gated_perplexity_train, gated_perplexity_test = train(trainloader, evalloader, gatedmodel, optimizer, criterion, nepoch, grad_clip=False, clip_val=0.8, scheduler=scheduler, model_name='gated_model')"
   ]
  },
  {
   "cell_type": "markdown",
   "metadata": {
    "id": "i00IMogb6ABR"
   },
   "source": [
    "## Result Plots"
   ]
  },
  {
   "cell_type": "markdown",
   "metadata": {
    "id": "wMYcj0HD6ABR"
   },
   "source": [
    "Plot your results."
   ]
  },
  {
   "cell_type": "markdown",
   "metadata": {
    "id": "NflzxtRU6ABR"
   },
   "source": [
    "### Loss"
   ]
  },
  {
   "cell_type": "code",
   "execution_count": 112,
   "metadata": {
    "colab": {
     "base_uri": "https://localhost:8080/",
     "height": 282
    },
    "executionInfo": {
     "elapsed": 662,
     "status": "ok",
     "timestamp": 1611041618965,
     "user": {
      "displayName": "ETA Kaggle",
      "photoUrl": "",
      "userId": "16314910698452963170"
     },
     "user_tz": -180
    },
    "id": "G1h8Ihd2JedB",
    "outputId": "f33089d7-3745-463b-e22c-25f1eef15c82"
   },
   "outputs": [
    {
     "data": {
      "text/plain": [
       "[<matplotlib.lines.Line2D at 0x7f247f4f6b70>]"
      ]
     },
     "execution_count": 112,
     "metadata": {
      "tags": []
     },
     "output_type": "execute_result"
    },
    {
     "data": {
      "image/png": "[encoded data removed]",
      "text/plain": [
       "<Figure size 432x288 with 1 Axes>"
      ]
     },
     "metadata": {
      "needs_background": "light",
      "tags": []
     },
     "output_type": "display_data"
    }
   ],
   "source": [
    "plt.plot(train_losses)\n",
    "plt.plot(validation_losses)"
   ]
  },
  {
   "cell_type": "code",
   "execution_count": 113,
   "metadata": {
    "colab": {
     "base_uri": "https://localhost:8080/",
     "height": 282
    },
    "executionInfo": {
     "elapsed": 524,
     "status": "ok",
     "timestamp": 1611041620567,
     "user": {
      "displayName": "ETA Kaggle",
      "photoUrl": "",
      "userId": "16314910698452963170"
     },
     "user_tz": -180
    },
    "id": "mrYWPLLNxWJQ",
    "outputId": "7e353b64-92b0-4947-cf25-3e153c8ebd00"
   },
   "outputs": [
    {
     "data": {
      "text/plain": [
       "[<matplotlib.lines.Line2D at 0x7f247f42e128>]"
      ]
     },
     "execution_count": 113,
     "metadata": {
      "tags": []
     },
     "output_type": "execute_result"
    },
    {
     "data": {
      "image/png": "[encoded data removed]",
      "text/plain": [
       "<Figure size 432x288 with 1 Axes>"
      ]
     },
     "metadata": {
      "needs_background": "light",
      "tags": []
     },
     "output_type": "display_data"
    }
   ],
   "source": [
    "plt.plot(clip_train_losses)\n",
    "plt.plot(clip_validation_losses)"
   ]
  },
  {
   "cell_type": "code",
   "execution_count": 114,
   "metadata": {
    "colab": {
     "base_uri": "https://localhost:8080/",
     "height": 282
    },
    "executionInfo": {
     "elapsed": 635,
     "status": "ok",
     "timestamp": 1611041622632,
     "user": {
      "displayName": "ETA Kaggle",
      "photoUrl": "",
      "userId": "16314910698452963170"
     },
     "user_tz": -180
    },
    "id": "jZ0VTrkUJie7",
    "outputId": "bda48e29-4c29-454c-df42-bc3776eb8944"
   },
   "outputs": [
    {
     "data": {
      "text/plain": [
       "[<matplotlib.lines.Line2D at 0x7f247f3b3ba8>]"
      ]
     },
     "execution_count": 114,
     "metadata": {
      "tags": []
     },
     "output_type": "execute_result"
    },
    {
     "data": {
      "image/png": "[encoded data removed]",
      "text/plain": [
       "<Figure size 432x288 with 1 Axes>"
      ]
     },
     "metadata": {
      "needs_background": "light",
      "tags": []
     },
     "output_type": "display_data"
    }
   ],
   "source": [
    "plt.plot(gated_train_losses)\n",
    "plt.plot(gated_validation_losses)"
   ]
  },
  {
   "cell_type": "code",
   "execution_count": 115,
   "metadata": {
    "colab": {
     "base_uri": "https://localhost:8080/",
     "height": 265
    },
    "executionInfo": {
     "elapsed": 717,
     "status": "ok",
     "timestamp": 1611041626045,
     "user": {
      "displayName": "ETA Kaggle",
      "photoUrl": "",
      "userId": "16314910698452963170"
     },
     "user_tz": -180
    },
    "id": "gAGZRFqbzkhl",
    "outputId": "da13b53a-7422-4d73-e29d-102faf2b8ec8"
   },
   "outputs": [
    {
     "data": {
      "image/png": "[encoded data removed]",
      "text/plain": [
       "<Figure size 432x288 with 1 Axes>"
      ]
     },
     "metadata": {
      "needs_background": "light",
      "tags": []
     },
     "output_type": "display_data"
    }
   ],
   "source": [
    "plt.grid()\n",
    "plt.plot(train_losses, label = \"RNN without clip train loss\")\n",
    "plt.plot(validation_losses, label = \"RNN without clip validation loss\")\n",
    "plt.plot(clip_train_losses, label = \"RNN with clip train loss\")\n",
    "plt.plot(clip_validation_losses, label = \"RNN with clip validation loss\")\n",
    "plt.plot(gated_train_losses, label = \"Gated model without clip train loss\")\n",
    "plt.plot(gated_validation_losses, label = \"Gated model without clip validation loss\")\n",
    "plt.legend(loc=\"upper right\")\n",
    "plt.show()"
   ]
  },
  {
   "cell_type": "markdown",
   "metadata": {
    "id": "tvCmFGvS6ABS"
   },
   "source": [
    "\n",
    "### Perplexity"
   ]
  },
  {
   "cell_type": "code",
   "execution_count": 116,
   "metadata": {
    "colab": {
     "base_uri": "https://localhost:8080/",
     "height": 282
    },
    "executionInfo": {
     "elapsed": 872,
     "status": "ok",
     "timestamp": 1611041633683,
     "user": {
      "displayName": "ETA Kaggle",
      "photoUrl": "",
      "userId": "16314910698452963170"
     },
     "user_tz": -180
    },
    "id": "3Tt37QLXxnCw",
    "outputId": "be5c31d3-4cfc-40cf-cdbb-90fb82ebb846"
   },
   "outputs": [
    {
     "data": {
      "text/plain": [
       "[<matplotlib.lines.Line2D at 0x7f247f677780>]"
      ]
     },
     "execution_count": 116,
     "metadata": {
      "tags": []
     },
     "output_type": "execute_result"
    },
    {
     "data": {
      "image/png": "[encoded data removed]",
      "text/plain": [
       "<Figure size 432x288 with 1 Axes>"
      ]
     },
     "metadata": {
      "needs_background": "light",
      "tags": []
     },
     "output_type": "display_data"
    }
   ],
   "source": [
    "plt.plot(perplexity_train, label = \"RNN without clip train perplexity\")\n",
    "plt.plot(perplexity_test, label = \"RNN without clip validation perplexity\")"
   ]
  },
  {
   "cell_type": "code",
   "execution_count": 117,
   "metadata": {
    "colab": {
     "base_uri": "https://localhost:8080/",
     "height": 282
    },
    "executionInfo": {
     "elapsed": 559,
     "status": "ok",
     "timestamp": 1611041635762,
     "user": {
      "displayName": "ETA Kaggle",
      "photoUrl": "",
      "userId": "16314910698452963170"
     },
     "user_tz": -180
    },
    "id": "RLWctcDNxngN",
    "outputId": "9218f36a-439a-4e38-d124-3cfde90a5686"
   },
   "outputs": [
    {
     "data": {
      "text/plain": [
       "[<matplotlib.lines.Line2D at 0x7f247f31fcf8>]"
      ]
     },
     "execution_count": 117,
     "metadata": {
      "tags": []
     },
     "output_type": "execute_result"
    },
    {
     "data": {
      "image/png": "[encoded data removed]",
      "text/plain": [
       "<Figure size 432x288 with 1 Axes>"
      ]
     },
     "metadata": {
      "needs_background": "light",
      "tags": []
     },
     "output_type": "display_data"
    }
   ],
   "source": [
    "plt.plot(clip_perplexity_train, label = \"RNN with clip train perplexity\")\n",
    "plt.plot(clip_perplexity_test, label = \"RNN with clip validation perplexity\")"
   ]
  },
  {
   "cell_type": "code",
   "execution_count": 118,
   "metadata": {
    "colab": {
     "base_uri": "https://localhost:8080/",
     "height": 282
    },
    "executionInfo": {
     "elapsed": 659,
     "status": "ok",
     "timestamp": 1611041637963,
     "user": {
      "displayName": "ETA Kaggle",
      "photoUrl": "",
      "userId": "16314910698452963170"
     },
     "user_tz": -180
    },
    "id": "TbRsIFyexncF",
    "outputId": "f988cf1c-ab1a-43dd-96b2-69666806d7f8"
   },
   "outputs": [
    {
     "data": {
      "text/plain": [
       "[<matplotlib.lines.Line2D at 0x7f247f3a5518>]"
      ]
     },
     "execution_count": 118,
     "metadata": {
      "tags": []
     },
     "output_type": "execute_result"
    },
    {
     "data": {
      "image/png": "[encoded data removed]",
      "text/plain": [
       "<Figure size 432x288 with 1 Axes>"
      ]
     },
     "metadata": {
      "needs_background": "light",
      "tags": []
     },
     "output_type": "display_data"
    }
   ],
   "source": [
    "plt.plot(gated_perplexity_train, label = \"Gated model without clip train perplexity\")\n",
    "plt.plot(gated_perplexity_test, label = \"Gated model without clip validation perplexity\")"
   ]
  },
  {
   "cell_type": "code",
   "execution_count": 119,
   "metadata": {
    "colab": {
     "base_uri": "https://localhost:8080/",
     "height": 265
    },
    "executionInfo": {
     "elapsed": 655,
     "status": "ok",
     "timestamp": 1611041652783,
     "user": {
      "displayName": "ETA Kaggle",
      "photoUrl": "",
      "userId": "16314910698452963170"
     },
     "user_tz": -180
    },
    "id": "pjT8quIhC0ja",
    "outputId": "3ef3a305-8cc6-4e3a-f070-0034734b1e4b"
   },
   "outputs": [
    {
     "data": {
      "image/png": "[encoded data removed]",
      "text/plain": [
       "<Figure size 432x288 with 1 Axes>"
      ]
     },
     "metadata": {
      "needs_background": "light",
      "tags": []
     },
     "output_type": "display_data"
    }
   ],
   "source": [
    "plt.grid()\n",
    "plt.plot(perplexity_train, label = \"RNN without clip train perplexity\")\n",
    "plt.plot(perplexity_test, label = \"RNN without clip validation perplexity\")\n",
    "plt.plot(gated_perplexity_train, label = \"Gated model without clip train perplexity\")\n",
    "plt.plot(gated_perplexity_test, label = \"Gated model without clip validation perplexity\")\n",
    "plt.plot(clip_perplexity_train, label = \"RNN with clip train perplexity\")\n",
    "plt.plot(clip_perplexity_test, label = \"RNN with clip validation perplexity\")\n",
    "plt.legend(loc=\"upper right\")\n",
    "plt.show()"
   ]
  },
  {
   "cell_type": "markdown",
   "metadata": {
    "id": "2ZIXGIAn6ABS"
   },
   "source": [
    "## Evaluation"
   ]
  },
  {
   "cell_type": "markdown",
   "metadata": {
    "id": "aXEAhmsR6ABS"
   },
   "source": [
    "Evaluate your final models."
   ]
  },
  {
   "cell_type": "markdown",
   "metadata": {
    "id": "34JksJyS6ABS"
   },
   "source": [
    "### RNNModel without gradient clipping"
   ]
  },
  {
   "cell_type": "code",
   "execution_count": 120,
   "metadata": {
    "colab": {
     "base_uri": "https://localhost:8080/"
    },
    "executionInfo": {
     "elapsed": 1227,
     "status": "ok",
     "timestamp": 1611041658609,
     "user": {
      "displayName": "ETA Kaggle",
      "photoUrl": "",
      "userId": "16314910698452963170"
     },
     "user_tz": -180
    },
    "id": "wV5iyxOaCrkW",
    "outputId": "f48a56f6-7e03-499a-e522-5bf63cd5d067"
   },
   "outputs": [
    {
     "name": "stdout",
     "output_type": "stream",
     "text": [
      "\tEvaluation loss  4.79 | ppl   119.93\n"
     ]
    },
    {
     "data": {
      "text/plain": [
       "(4.786945530346462, 119.93447240535264)"
      ]
     },
     "execution_count": 120,
     "metadata": {
      "tags": []
     },
     "output_type": "execute_result"
    }
   ],
   "source": [
    "evaluate(model, criterion, evalloader)"
   ]
  },
  {
   "cell_type": "markdown",
   "metadata": {
    "id": "oKdWkuKt6ABS"
   },
   "source": [
    "### RNNModel with gradient clipping"
   ]
  },
  {
   "cell_type": "code",
   "execution_count": 121,
   "metadata": {
    "colab": {
     "base_uri": "https://localhost:8080/"
    },
    "executionInfo": {
     "elapsed": 1068,
     "status": "ok",
     "timestamp": 1611041661177,
     "user": {
      "displayName": "ETA Kaggle",
      "photoUrl": "",
      "userId": "16314910698452963170"
     },
     "user_tz": -180
    },
    "id": "FEbPbRabCq2i",
    "outputId": "18680fa1-701e-4799-8899-2f8593fff257"
   },
   "outputs": [
    {
     "name": "stdout",
     "output_type": "stream",
     "text": [
      "\tEvaluation loss  4.77 | ppl   117.90\n"
     ]
    },
    {
     "data": {
      "text/plain": [
       "(4.769863401140485, 117.90313542679611)"
      ]
     },
     "execution_count": 121,
     "metadata": {
      "tags": []
     },
     "output_type": "execute_result"
    }
   ],
   "source": [
    "evaluate(modelclip, criterion, evalloader)"
   ]
  },
  {
   "cell_type": "markdown",
   "metadata": {
    "id": "sYvxev3Z6ABS"
   },
   "source": [
    "### GatedModel without gradient clipping"
   ]
  },
  {
   "cell_type": "code",
   "execution_count": 122,
   "metadata": {
    "colab": {
     "base_uri": "https://localhost:8080/"
    },
    "executionInfo": {
     "elapsed": 883,
     "status": "ok",
     "timestamp": 1611041664620,
     "user": {
      "displayName": "ETA Kaggle",
      "photoUrl": "",
      "userId": "16314910698452963170"
     },
     "user_tz": -180
    },
    "id": "fytPlqcF6ABR",
    "outputId": "7d5114d0-d6e8-42fd-eb22-fadcfb5e3866"
   },
   "outputs": [
    {
     "name": "stdout",
     "output_type": "stream",
     "text": [
      "\tEvaluation loss  4.79 | ppl   119.97\n"
     ]
    },
    {
     "data": {
      "text/plain": [
       "(4.787237201418195, 119.96945892348644)"
      ]
     },
     "execution_count": 122,
     "metadata": {
      "tags": []
     },
     "output_type": "execute_result"
    }
   ],
   "source": [
    "evaluate(gatedmodel, criterion, evalloader)"
   ]
  },
  {
   "cell_type": "markdown",
   "metadata": {
    "id": "0dL42jWd6ABS"
   },
   "source": [
    "## Text Generation"
   ]
  },
  {
   "cell_type": "markdown",
   "metadata": {
    "id": "kkxfKWPb6ABT"
   },
   "source": [
    "Generate text with your final models."
   ]
  },
  {
   "cell_type": "markdown",
   "metadata": {
    "id": "9MwjsYjE6ABT"
   },
   "source": [
    "### RNNModel without gradient clipping"
   ]
  },
  {
   "cell_type": "code",
   "execution_count": 123,
   "metadata": {
    "colab": {
     "base_uri": "https://localhost:8080/",
     "height": 154
    },
    "executionInfo": {
     "elapsed": 892,
     "status": "ok",
     "timestamp": 1611041668999,
     "user": {
      "displayName": "ETA Kaggle",
      "photoUrl": "",
      "userId": "16314910698452963170"
     },
     "user_tz": -180
    },
    "id": "ggFMbzk0CZBj",
    "outputId": "2704288c-f75f-4a61-a55a-e51bf1627ceb"
   },
   "outputs": [
    {
     "data": {
      "application/vnd.google.colaboratory.intrinsic+json": {
       "type": "string"
      },
      "text/plain": [
       "'for she really did know where her friend was to be found . wickham indeed had gone to her on their first arrival in london , and had she been able to receive them into her house , they would have taken up their abode with her . at length , however , our kind friend procured the wished for direction . they were in street . he saw wickham , and afterwards insisted on seeing lydia . his first object with her , he acknowledged , had been to persuade her to quit her present disgraceful situation , and return to her friends as soon as they could be prevailed on to receive her , offering his assistance , as far as it would go . but he found lydia absolutely resolved on remaining where she was . she cared for none of her friends she wanted no help of his she would not hear of leaving wickham . she was sure they should be married some time or other , and it did not much signify when . since such were her feelings , it only remained , he thought , to secure and expedite a marriage , =====> or good . mrs . bennet , who might creditably uncommon , for she , that nothing pray trouble by the gown to him all forward unknown his feelings for her sister s derision , and triumphantly engrossed against jane . his accent was more that they shall make that he could not help his advice and herself , dances , and he had , from a relations army sacrificed passions what and she must teach give a slight deal wishes . this , that they were away , for to drink his lips accusations , but i never imposing'"
      ]
     },
     "execution_count": 123,
     "metadata": {
      "tags": []
     },
     "output_type": "execute_result"
    }
   ],
   "source": [
    "generate(model, list(eval_dataset.data[300:500]), train_dataset.data_idx, train_dataset.idx_data, len_hist=100, len_gen=100)"
   ]
  },
  {
   "cell_type": "markdown",
   "metadata": {
    "id": "7dlqMUme6ABT"
   },
   "source": [
    "### RNNModel with gradient clipping"
   ]
  },
  {
   "cell_type": "code",
   "execution_count": 124,
   "metadata": {
    "colab": {
     "base_uri": "https://localhost:8080/",
     "height": 154
    },
    "executionInfo": {
     "elapsed": 836,
     "status": "ok",
     "timestamp": 1611041671330,
     "user": {
      "displayName": "ETA Kaggle",
      "photoUrl": "",
      "userId": "16314910698452963170"
     },
     "user_tz": -180
    },
    "id": "YOLGgmfYCYAj",
    "outputId": "585eae71-b80c-4b63-e89a-2aeb9bec8fa3"
   },
   "outputs": [
    {
     "data": {
      "application/vnd.google.colaboratory.intrinsic+json": {
       "type": "string"
      },
      "text/plain": [
       "'for she really did know where her friend was to be found . wickham indeed had gone to her on their first arrival in london , and had she been able to receive them into her house , they would have taken up their abode with her . at length , however , our kind friend procured the wished for direction . they were in street . he saw wickham , and afterwards insisted on seeing lydia . his first object with her , he acknowledged , had been to persuade her to quit her present disgraceful situation , and return to her friends as soon as they could be prevailed on to receive her , offering his assistance , as far as it would go . but he found lydia absolutely resolved on remaining where she was . she cared for none of her friends she wanted no help of his she would not hear of leaving wickham . she was sure they should be married some time or other , and it did not much signify when . since such were her feelings , it only remained , he thought , to secure and expedite a marriage , =====> and of other young lady was divided from the following pain of their visit , mrs . jane for hearers unprincipled and nominally . i use very pardon and precluding , and which affection she had heard in the habit of their chair and signs , were then only by herself that every humble entreaty , but she was not giving the same consequence of objection or expressively its idle . i do not know that is in the north , in a peculiarly of england and impertinence on the door that though file governess to elizabeth was so very'"
      ]
     },
     "execution_count": 124,
     "metadata": {
      "tags": []
     },
     "output_type": "execute_result"
    }
   ],
   "source": [
    "generate(modelclip, list(eval_dataset.data[300:500]), train_dataset.data_idx, train_dataset.idx_data, len_hist=100, len_gen=100)"
   ]
  },
  {
   "cell_type": "markdown",
   "metadata": {
    "id": "dpWts6Xk6ABT"
   },
   "source": [
    "### GatedModel without gradient clipping"
   ]
  },
  {
   "cell_type": "code",
   "execution_count": 125,
   "metadata": {
    "colab": {
     "base_uri": "https://localhost:8080/",
     "height": 154
    },
    "executionInfo": {
     "elapsed": 819,
     "status": "ok",
     "timestamp": 1611041675819,
     "user": {
      "displayName": "ETA Kaggle",
      "photoUrl": "",
      "userId": "16314910698452963170"
     },
     "user_tz": -180
    },
    "id": "1r3lIHhX6ABR",
    "outputId": "e75c5f16-7122-4230-8570-1c21a3f323a7"
   },
   "outputs": [
    {
     "data": {
      "application/vnd.google.colaboratory.intrinsic+json": {
       "type": "string"
      },
      "text/plain": [
       "'for she really did know where her friend was to be found . wickham indeed had gone to her on their first arrival in london , and had she been able to receive them into her house , they would have taken up their abode with her . at length , however , our kind friend procured the wished for direction . they were in street . he saw wickham , and afterwards insisted on seeing lydia . his first object with her , he acknowledged , had been to persuade her to quit her present disgraceful situation , and return to her friends as soon as they could be prevailed on to receive her , offering his assistance , as far as it would go . but he found lydia absolutely resolved on remaining where she was . she cared for none of her friends she wanted no help of his she would not hear of leaving wickham . she was sure they should be married some time or other , and it did not much signify when . since such were her feelings , it only remained , he thought , to secure and expedite a marriage , =====> she when , looking with her , of her equally well else . the revolt were added , of elizabeth looked to hear . they came towards it sense of each abatement . her was so well indulged in the matter of something in the acquaintance commendation to last other revealing , however , or walk mrs . bennet was proud , he withdrew , the letter which had been gone , and now , he seemed imaginary , had no bear to meet her before continue a few generations . and jane to discreditable to a very difficult walk'"
      ]
     },
     "execution_count": 125,
     "metadata": {
      "tags": []
     },
     "output_type": "execute_result"
    }
   ],
   "source": [
    "generate(gatedmodel, list(eval_dataset.data[300:500]), train_dataset.data_idx, train_dataset.idx_data, len_hist=100, len_gen=100)"
   ]
  },
  {
   "cell_type": "markdown",
   "metadata": {
    "id": "82htJed06ABT"
   },
   "source": [
    "## Extra Questions:\n",
    "Use your own words."
   ]
  },
  {
   "cell_type": "markdown",
   "metadata": {
    "id": "2qU9DlXK6ABT"
   },
   "source": [
    "### Q1) Explain teacher forcing and give its advantages and disadvantages. (5 points)\n",
    "\n",
    "Teacher forcing is a strategy that is used generally in sequence to sequence models. It takes the actual output of the last step's output as an input instead of using the output predicted by the model.\n",
    "\n",
    "Advantages: \n",
    "  * Since the actual target is used, the error that the model did will decrease, especially at the beginning of the training, the model may make wrong predictions. If it continues to use wrong predictions as input in the next steps, then 1 wrong prediction may affect the predictions in the next steps.\n",
    "\n",
    "Disadvantages:\n",
    "  * It is only used in the training part because the target is known. But when evaluating the model, we do not have the information about the actual output, it should evaluate the model with predicted output. So, the Model may not perform well in testing steps."
   ]
  },
  {
   "cell_type": "markdown",
   "metadata": {
    "id": "zweyu38x6ABT"
   },
   "source": [
    "### Q2) Explain encoder-decoder sequence-to-sequence architectures. Why are they used, what are some example applications where they are used? (5 points)\n",
    "\n",
    "Encoder decoder seq2seq architectures are used when inputs and outputs are not mapped to an exact length. For example, in machine translation, \"entarte\" verb in french refers to \"hit with a pie\" in English and these words do not have 1-1 mapping.\n",
    "\n",
    "Encoder Part consists of LSTM or GRU recurrent unit cells, each of them gets input and they are forwarded through the next steps. In the end, it will reach the encoded state.\n",
    "\n",
    "The decoder part consists of recurrent units that produce output from encoded vectors and outputs from the previous step. The number of decoder units is expected from the model and it starts with [START] token and it ends when the model produced the [END] token.\n",
    "\n",
    "It can be used in Machine Translation, Speech Recognition, Video Captioning, Dialog, Code generation, Parsing, Summarization and it can be applied to any sequential problem with different number of inputs and outputs"
   ]
  },
  {
   "cell_type": "markdown",
   "metadata": {
    "id": "or5QC3vd6ABT"
   },
   "source": [
    "### Q3) Why is attention used in encoder-decoder sequence-to-sequence architectures? (5 points)\n",
    "\n",
    "Encoding all of the source sequences into a single vector and passing it to the decoder causes a bottleneck in the model. The decoder part only takes an encoded vector as an input. But the attention mechanism cares about the output from the encoder steps. It helps the decoder learns to focus on the input sequence.\n",
    "\n",
    "It used because: \n",
    " * Allows decoder to reach out to output of the encoder\n",
    " * It solves bottleneck problems. Sees source directly\n",
    " * Helps vanishing gradient problem\n",
    " * We can see where the output is inspired.\n",
    "\n"
   ]
  },
  {
   "cell_type": "markdown",
   "metadata": {
    "id": "6QcNEwv_sr9E"
   },
   "source": [
    "#### Links to models:\n",
    "RNN Without Clip: https://drive.google.com/file/d/157weM4L-2rG6YDQZ83kguusZhqEUrROk/view?usp=sharing\n",
    "\n",
    "RNN With Clip: https://drive.google.com/file/d/1lVuzuRtxjgD4iznmJv-sXMT-BeAkzp2R/view?usp=sharing\n",
    "\n",
    "Gated Model Without Clip: https://drive.google.com/file/d/1lVuzuRtxjgD4iznmJv-sXMT-BeAkzp2R/view?usp=sharing"
   ]
  },
  {
   "cell_type": "code",
   "execution_count": null,
   "metadata": {
    "id": "INKpg2a1sqg_"
   },
   "outputs": [],
   "source": []
  }
 ],
 "metadata": {
  "accelerator": "GPU",
  "colab": {
   "collapsed_sections": [],
   "name": "LanguageModelling.ipynb",
   "provenance": [
    {
     "file_id": "16kLX8XrOX8O8_ODtpf0T8y4QHRsLQFYT",
     "timestamp": 1609426256501
    }
   ]
  },
  "kernelspec": {
   "display_name": "Python 3",
   "language": "python",
   "name": "python3"
  },
  "language_info": {
   "codemirror_mode": {
    "name": "ipython",
    "version": 3
   },
   "file_extension": ".py",
   "mimetype": "text/x-python",
   "name": "python",
   "nbconvert_exporter": "python",
   "pygments_lexer": "ipython3",
   "version": "3.8.3"
  }
 },
 "nbformat": 4,
 "nbformat_minor": 1
}
